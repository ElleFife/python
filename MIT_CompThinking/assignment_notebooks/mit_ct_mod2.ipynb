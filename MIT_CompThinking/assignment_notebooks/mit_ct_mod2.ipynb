{
  "nbformat": 4,
  "nbformat_minor": 0,
  "metadata": {
    "colab": {
      "name": "mit_ct_mod2",
      "provenance": []
    },
    "kernelspec": {
      "name": "python3",
      "display_name": "Python 3"
    },
    "language_info": {
      "name": "python"
    }
  },
  "cells": [
    {
      "cell_type": "markdown",
      "metadata": {
        "id": "uMx40ZwODh5x"
      },
      "source": [
        "Problem Set 2"
      ]
    },
    {
      "cell_type": "code",
      "metadata": {
        "colab": {
          "base_uri": "https://localhost:8080/"
        },
        "id": "Of5cFA34JESu",
        "outputId": "c0f445ee-8913-40ba-cac1-605e909b27d2"
      },
      "source": [
        "from google.colab import drive\n",
        "drive.mount('/content/drive')"
      ],
      "execution_count": 4,
      "outputs": [
        {
          "output_type": "stream",
          "text": [
            "Mounted at /content/drive\n"
          ],
          "name": "stdout"
        }
      ]
    },
    {
      "cell_type": "code",
      "metadata": {
        "colab": {
          "base_uri": "https://localhost:8080/"
        },
        "id": "aL_u_GyuJO1G",
        "outputId": "9a1284d2-cb7d-4ff7-8148-b9d3cab84c62"
      },
      "source": [
        "%cd /content/drive/MyDrive/mit_ct_2016/Assignments/PS2"
      ],
      "execution_count": 5,
      "outputs": [
        {
          "output_type": "stream",
          "text": [
            "/content/drive/MyDrive/mit_ct_2016/Assignments/PS2\n"
          ],
          "name": "stdout"
        }
      ]
    },
    {
      "cell_type": "code",
      "metadata": {
        "id": "qJZRHiCFD8N6"
      },
      "source": [
        "# Finding shortest paths through MIT buildings\n",
        "\n",
        "import unittest\n",
        "from graph import Digraph, Node, WeightedEdge\n",
        "\n",
        "# Problem 2: Building up the Campus Map\n",
        "#"
      ],
      "execution_count": 6,
      "outputs": []
    },
    {
      "cell_type": "code",
      "metadata": {
        "id": "A3V6uL_tDmFw"
      },
      "source": [
        "# Problem 2b: Implementing load_map\n",
        "def load_map(map_filename):\n",
        "    \"\"\"\n",
        "    Parses the map file and constructs a directed graph\n",
        "\n",
        "    Parameters:\n",
        "        map_filename : name of the map file\n",
        "\n",
        "    Assumes:\n",
        "        Each entry in the map file consists of the following four positive\n",
        "        integers, separated by a blank space:\n",
        "            From To TotalDistance DistanceOutdoors\n",
        "        e.g.\n",
        "            32 76 54 23\n",
        "        This entry would become an edge from 32 to 76.\n",
        "\n",
        "    Returns:\n",
        "        a Digraph representing the map\n",
        "    \"\"\"\n",
        "\n",
        "    # TODO\n",
        "    print(\"Loading map from file...\")\n",
        "    file = open(map_filename, 'r') # open the file\n",
        "    g = Digraph()\n",
        "    for line in file:  # read each line of the file\n",
        "        line = line.strip('\\n')  # remove the \\n character\n",
        "        line = line.split(' ')\n",
        "        for i in range(0, 2):\n",
        "            nod = Node(line[i])\n",
        "            if not g.has_node(nod):\n",
        "                g.add_node(nod)\n",
        "        wei_edge = WeightedEdge(Node(line[0]), Node(line[1]), int(line[2]), int(line[3]))\n",
        "        g.add_edge(wei_edge)\n",
        "    file.close()\n",
        "    return g\n",
        "\n",
        "\n"
      ],
      "execution_count": 10,
      "outputs": []
    },
    {
      "cell_type": "code",
      "metadata": {
        "colab": {
          "base_uri": "https://localhost:8080/"
        },
        "id": "-dKRmEwkKxXL",
        "outputId": "dc76028a-4e4e-46d5-deb4-29384a6370fd"
      },
      "source": [
        "#test run\n",
        "print(load_map('mit_map.txt'))"
      ],
      "execution_count": 18,
      "outputs": [
        {
          "output_type": "stream",
          "text": [
            "Loading map from file...\n",
            "\n"
          ],
          "name": "stdout"
        }
      ]
    },
    {
      "cell_type": "code",
      "metadata": {
        "id": "TNAQnDuSDl6n"
      },
      "source": [
        "# Problem 3: Finding the Shorest Path using Optimized Search Method\n",
        "\n",
        "# Problem 3b: Implement get_best_path\n",
        "\n",
        "\"\"\"\n",
        "    Finds the shortest path between buildings subject to constraints.\n",
        "\n",
        "    Parameters:\n",
        "        digraph: Digraph instance\n",
        "            The graph on which to carry out the search\n",
        "        start: string\n",
        "            Building number at which to start\n",
        "        end: string\n",
        "            Building number at which to end\n",
        "        path: list composed of [[list of strings], int, int]\n",
        "            Represents the current path of nodes being traversed. Contains\n",
        "            a list of node names, total distance traveled, and total\n",
        "            distance outdoors.\n",
        "        max_dist_outdoors: int\n",
        "            Maximum distance spent outdoors on a path\n",
        "        best_dist: int\n",
        "            The smallest distance between the original start and end node\n",
        "            for the initial problem that you are trying to solve\n",
        "        best_path: list of strings\n",
        "            The shortest path found so far between the original start\n",
        "            and end node.\n",
        "\n",
        "    Returns:\n",
        "        A tuple with the shortest-path from start to end, represented by\n",
        "        a list of building numbers (in strings), [n_1, n_2, ..., n_k],\n",
        "        where there exists an edge from n_i to n_(i+1) in digraph,\n",
        "        for all 1 <= i < k and the distance of that path.\n",
        "\n",
        "        If there exists no path that satisfies max_total_dist and\n",
        "        max_dist_outdoors constraints, then return None.\n",
        "\"\"\"\n",
        "    # TODO\n",
        "def getDistance(digraph, path):\n",
        "    total_dist = 0\n",
        "    outdoor_dist = 0\n",
        "    for i in range(len(path) - 1):\n",
        "        for edge in digraph.edges[path[i]]:\n",
        "            if edge.dest == path[i + 1]:\n",
        "                total_dist += edge.get_total_distance()\n",
        "                outdoor_dist += edge.get_outdoor_distance()\n",
        "    return (total_dist, outdoor_dist)\n",
        "\n",
        "def get_best_path(digraph, start, end, path, max_dist_outdoors, best_dist,\n",
        "                  best_path):\n",
        "  path = path + [start]\n",
        "  if start not in digraph.nodes:\n",
        "        raise ValueError('Invalid Node')\n",
        "  elif start == end:\n",
        "        return path\n",
        "  else:\n",
        "        for node in digraph.get_edges_for_node(start):\n",
        "            if node.dest not in path:\n",
        "                    new_path = get_best_path(digraph, node.dest, end, path, max_dist_outdoors, best_dist, best_path)\n",
        "                    if new_path != None:\n",
        "                        total_dist, outdoor_dist = getDistance(digraph, new_path)\n",
        "                        if outdoor_dist <= max_dist_outdoors and total_dist <= best_dist:\n",
        "                            best_path = new_path\n",
        "                            best_dist = total_dist\n",
        "  return best_path"
      ],
      "execution_count": 27,
      "outputs": []
    },
    {
      "cell_type": "code",
      "metadata": {
        "id": "VsJzqSWCDxvk"
      },
      "source": [
        "# Problem 3c: Implement directed_dfs\n",
        "def directed_dfs(digraph, start, end, max_total_dist, max_dist_outdoors):\n",
        "    \"\"\"\n",
        "    Finds the shortest path from start to end using a directed depth-first\n",
        "    search. The total distance traveled on the path must not\n",
        "    exceed max_total_dist, and the distance spent outdoors on this path must\n",
        "    not exceed max_dist_outdoors.\n",
        "\n",
        "    Parameters:\n",
        "        digraph: Digraph instance\n",
        "            The graph on which to carry out the search\n",
        "        start: string\n",
        "            Building number at which to start\n",
        "        end: string\n",
        "            Building number at which to end\n",
        "        max_total_dist: int\n",
        "            Maximum total distance on a path\n",
        "        max_dist_outdoors: int\n",
        "            Maximum distance spent outdoors on a path\n",
        "\n",
        "    Returns:\n",
        "        The shortest-path from start to end, represented by\n",
        "        a list of building numbers (in strings), [n_1, n_2, ..., n_k],\n",
        "        where there exists an edge from n_i to n_(i+1) in digraph,\n",
        "        for all 1 <= i < k\n",
        "\n",
        "        If there exists no path that satisfies max_total_dist and\n",
        "        max_dist_outdoors constraints, then raises a ValueError.\n",
        "    \"\"\"\n",
        "    # TODO\n",
        "\n",
        "    start = Node(start)\n",
        "    end = Node(end)\n",
        "    best_path = get_best_path(digraph, start, end, [], max_dist_outdoors, max_total_dist, None)\n",
        "\n",
        "    if best_path == None:\n",
        "        raise ValueError\n",
        "    return [node.get_name() for node in best_path]"
      ],
      "execution_count": 29,
      "outputs": []
    },
    {
      "cell_type": "code",
      "metadata": {
        "colab": {
          "base_uri": "https://localhost:8080/"
        },
        "id": "2loYWVjqDhJA",
        "outputId": "1c4a8441-ba97-496e-96e6-a110ba4cc252"
      },
      "source": [
        "# ================================================================\n",
        "# Begin tests -- you do not need to modify anything below this line\n",
        "# ================================================================\n",
        "\n",
        "class Ps2Test(unittest.TestCase):\n",
        "    LARGE_DIST = 99999\n",
        "\n",
        "    def setUp(self):\n",
        "        self.graph = load_map(\"/content/drive/MyDrive/mit_ct_2016/Assignments/PS2/mit_map.txt\")\n",
        "\n",
        "    def test_load_map_basic(self):\n",
        "        self.assertTrue(isinstance(self.graph, Digraph))\n",
        "        self.assertEqual(len(self.graph.nodes), 37)\n",
        "        all_edges = []\n",
        "        for _, edges in self.graph.edges.items():\n",
        "            all_edges += edges  # edges must be dict of node -> list of edges\n",
        "        all_edges = set(all_edges)\n",
        "        self.assertEqual(len(all_edges), 129)\n",
        "\n",
        "    def _print_path_description(self, start, end, total_dist, outdoor_dist):\n",
        "        constraint = \"\"\n",
        "        if outdoor_dist != Ps2Test.LARGE_DIST:\n",
        "            constraint = \"without walking more than {}m outdoors\".format(\n",
        "                outdoor_dist)\n",
        "        if total_dist != Ps2Test.LARGE_DIST:\n",
        "            if constraint:\n",
        "                constraint += ' or {}m total'.format(total_dist)\n",
        "            else:\n",
        "                constraint = \"without walking more than {}m total\".format(\n",
        "                    total_dist)\n",
        "\n",
        "        print(\"------------------------\")\n",
        "        print(\"Shortest path from Building {} to {} {}\".format(\n",
        "            start, end, constraint))\n",
        "\n",
        "    def _test_path(self,\n",
        "                   expectedPath,\n",
        "                   total_dist=LARGE_DIST,\n",
        "                   outdoor_dist=LARGE_DIST):\n",
        "        start, end = expectedPath[0], expectedPath[-1]\n",
        "        self._print_path_description(start, end, total_dist, outdoor_dist)\n",
        "        dfsPath = directed_dfs(self.graph, start, end, total_dist, outdoor_dist)\n",
        "        print(\"Expected: \", expectedPath)\n",
        "        print(\"DFS: \", dfsPath)\n",
        "        self.assertEqual(expectedPath, dfsPath)\n",
        "\n",
        "    def _test_impossible_path(self,\n",
        "                              start,\n",
        "                              end,\n",
        "                              total_dist=LARGE_DIST,\n",
        "                              outdoor_dist=LARGE_DIST):\n",
        "        self._print_path_description(start, end, total_dist, outdoor_dist)\n",
        "        with self.assertRaises(ValueError):\n",
        "            directed_dfs(self.graph, start, end, total_dist, outdoor_dist)\n",
        "\n",
        "    def test_path_one_step(self):\n",
        "        self._test_path(expectedPath=['32', '56'])\n",
        "\n",
        "    def test_path_no_outdoors(self):\n",
        "        self._test_path(\n",
        "            expectedPath=['32', '36', '26', '16', '56'], outdoor_dist=0)\n",
        "\n",
        "    def test_path_multi_step(self):\n",
        "        self._test_path(expectedPath=['2', '3', '7', '9'])\n",
        "\n",
        "    def test_path_multi_step_no_outdoors(self):\n",
        "        self._test_path(\n",
        "            expectedPath=['2', '4', '10', '13', '9'], outdoor_dist=0)\n",
        "\n",
        "    def test_path_multi_step2(self):\n",
        "        self._test_path(expectedPath=['1', '4', '12', '32'])\n",
        "\n",
        "    def test_path_multi_step_no_outdoors2(self):\n",
        "        self._test_path(\n",
        "            expectedPath=['1', '3', '10', '4', '12', '24', '34', '36', '32'],\n",
        "            outdoor_dist=0)\n",
        "\n",
        "    def test_impossible_path1(self):\n",
        "        self._test_impossible_path('8', '50', outdoor_dist=0)\n",
        "\n",
        "    def test_impossible_path2(self):\n",
        "        self._test_impossible_path('10', '32', total_dist=100)\n",
        "\n",
        "\n",
        "if __name__ == \"__main__\":\n",
        "    unittest.main(argv=['first-arg-is-ignored'], exit=False)\n"
      ],
      "execution_count": 33,
      "outputs": [
        {
          "output_type": "stream",
          "text": [
            "..FEEEEEE"
          ],
          "name": "stderr"
        },
        {
          "output_type": "stream",
          "text": [
            "Loading map from file...\n",
            "------------------------\n",
            "Shortest path from Building 8 to 50 without walking more than 0m outdoors\n",
            "Loading map from file...\n",
            "------------------------\n",
            "Shortest path from Building 10 to 32 without walking more than 100m total\n",
            "Loading map from file...\n",
            "Loading map from file...\n",
            "------------------------\n",
            "Shortest path from Building 2 to 9 \n",
            "Loading map from file...\n",
            "------------------------\n",
            "Shortest path from Building 1 to 32 \n",
            "Loading map from file...\n",
            "------------------------\n",
            "Shortest path from Building 2 to 9 without walking more than 0m outdoors\n",
            "Loading map from file...\n",
            "------------------------\n",
            "Shortest path from Building 1 to 32 without walking more than 0m outdoors\n",
            "Loading map from file...\n",
            "------------------------\n",
            "Shortest path from Building 32 to 56 without walking more than 0m outdoors\n",
            "Loading map from file...\n",
            "------------------------\n",
            "Shortest path from Building 32 to 56 \n"
          ],
          "name": "stdout"
        },
        {
          "output_type": "stream",
          "text": [
            "\n",
            "======================================================================\n",
            "ERROR: test_path_multi_step (__main__.Ps2Test)\n",
            "----------------------------------------------------------------------\n",
            "Traceback (most recent call last):\n",
            "  File \"<ipython-input-33-dec8c1ebfb21>\", line 64, in test_path_multi_step\n",
            "    self._test_path(expectedPath=['2', '3', '7', '9'])\n",
            "  File \"<ipython-input-33-dec8c1ebfb21>\", line 42, in _test_path\n",
            "    dfsPath = directed_dfs(self.graph, start, end, total_dist, outdoor_dist)\n",
            "  File \"<ipython-input-29-e7357d03b1e3>\", line 34, in directed_dfs\n",
            "    best_path = get_best_path(digraph, start, end, [], max_dist_outdoors, max_total_dist, None)\n",
            "  File \"<ipython-input-27-c1d518f13079>\", line 53, in get_best_path\n",
            "    raise ValueError('Invalid Node')\n",
            "ValueError: Invalid Node\n",
            "\n",
            "======================================================================\n",
            "ERROR: test_path_multi_step2 (__main__.Ps2Test)\n",
            "----------------------------------------------------------------------\n",
            "Traceback (most recent call last):\n",
            "  File \"<ipython-input-33-dec8c1ebfb21>\", line 71, in test_path_multi_step2\n",
            "    self._test_path(expectedPath=['1', '4', '12', '32'])\n",
            "  File \"<ipython-input-33-dec8c1ebfb21>\", line 42, in _test_path\n",
            "    dfsPath = directed_dfs(self.graph, start, end, total_dist, outdoor_dist)\n",
            "  File \"<ipython-input-29-e7357d03b1e3>\", line 34, in directed_dfs\n",
            "    best_path = get_best_path(digraph, start, end, [], max_dist_outdoors, max_total_dist, None)\n",
            "  File \"<ipython-input-27-c1d518f13079>\", line 53, in get_best_path\n",
            "    raise ValueError('Invalid Node')\n",
            "ValueError: Invalid Node\n",
            "\n",
            "======================================================================\n",
            "ERROR: test_path_multi_step_no_outdoors (__main__.Ps2Test)\n",
            "----------------------------------------------------------------------\n",
            "Traceback (most recent call last):\n",
            "  File \"<ipython-input-33-dec8c1ebfb21>\", line 68, in test_path_multi_step_no_outdoors\n",
            "    expectedPath=['2', '4', '10', '13', '9'], outdoor_dist=0)\n",
            "  File \"<ipython-input-33-dec8c1ebfb21>\", line 42, in _test_path\n",
            "    dfsPath = directed_dfs(self.graph, start, end, total_dist, outdoor_dist)\n",
            "  File \"<ipython-input-29-e7357d03b1e3>\", line 34, in directed_dfs\n",
            "    best_path = get_best_path(digraph, start, end, [], max_dist_outdoors, max_total_dist, None)\n",
            "  File \"<ipython-input-27-c1d518f13079>\", line 53, in get_best_path\n",
            "    raise ValueError('Invalid Node')\n",
            "ValueError: Invalid Node\n",
            "\n",
            "======================================================================\n",
            "ERROR: test_path_multi_step_no_outdoors2 (__main__.Ps2Test)\n",
            "----------------------------------------------------------------------\n",
            "Traceback (most recent call last):\n",
            "  File \"<ipython-input-33-dec8c1ebfb21>\", line 76, in test_path_multi_step_no_outdoors2\n",
            "    outdoor_dist=0)\n",
            "  File \"<ipython-input-33-dec8c1ebfb21>\", line 42, in _test_path\n",
            "    dfsPath = directed_dfs(self.graph, start, end, total_dist, outdoor_dist)\n",
            "  File \"<ipython-input-29-e7357d03b1e3>\", line 34, in directed_dfs\n",
            "    best_path = get_best_path(digraph, start, end, [], max_dist_outdoors, max_total_dist, None)\n",
            "  File \"<ipython-input-27-c1d518f13079>\", line 53, in get_best_path\n",
            "    raise ValueError('Invalid Node')\n",
            "ValueError: Invalid Node\n",
            "\n",
            "======================================================================\n",
            "ERROR: test_path_no_outdoors (__main__.Ps2Test)\n",
            "----------------------------------------------------------------------\n",
            "Traceback (most recent call last):\n",
            "  File \"<ipython-input-33-dec8c1ebfb21>\", line 61, in test_path_no_outdoors\n",
            "    expectedPath=['32', '36', '26', '16', '56'], outdoor_dist=0)\n",
            "  File \"<ipython-input-33-dec8c1ebfb21>\", line 42, in _test_path\n",
            "    dfsPath = directed_dfs(self.graph, start, end, total_dist, outdoor_dist)\n",
            "  File \"<ipython-input-29-e7357d03b1e3>\", line 34, in directed_dfs\n",
            "    best_path = get_best_path(digraph, start, end, [], max_dist_outdoors, max_total_dist, None)\n",
            "  File \"<ipython-input-27-c1d518f13079>\", line 53, in get_best_path\n",
            "    raise ValueError('Invalid Node')\n",
            "ValueError: Invalid Node\n",
            "\n",
            "======================================================================\n",
            "ERROR: test_path_one_step (__main__.Ps2Test)\n",
            "----------------------------------------------------------------------\n",
            "Traceback (most recent call last):\n",
            "  File \"<ipython-input-33-dec8c1ebfb21>\", line 57, in test_path_one_step\n",
            "    self._test_path(expectedPath=['32', '56'])\n",
            "  File \"<ipython-input-33-dec8c1ebfb21>\", line 42, in _test_path\n",
            "    dfsPath = directed_dfs(self.graph, start, end, total_dist, outdoor_dist)\n",
            "  File \"<ipython-input-29-e7357d03b1e3>\", line 34, in directed_dfs\n",
            "    best_path = get_best_path(digraph, start, end, [], max_dist_outdoors, max_total_dist, None)\n",
            "  File \"<ipython-input-27-c1d518f13079>\", line 53, in get_best_path\n",
            "    raise ValueError('Invalid Node')\n",
            "ValueError: Invalid Node\n",
            "\n",
            "======================================================================\n",
            "FAIL: test_load_map_basic (__main__.Ps2Test)\n",
            "----------------------------------------------------------------------\n",
            "Traceback (most recent call last):\n",
            "  File \"<ipython-input-33-dec8c1ebfb21>\", line 13, in test_load_map_basic\n",
            "    self.assertEqual(len(self.graph.nodes), 37)\n",
            "AssertionError: 0 != 37\n",
            "\n",
            "----------------------------------------------------------------------\n",
            "Ran 9 tests in 0.088s\n",
            "\n",
            "FAILED (failures=1, errors=6)\n"
          ],
          "name": "stderr"
        }
      ]
    },
    {
      "cell_type": "code",
      "metadata": {
        "id": "4urW4uP2NLvD"
      },
      "source": [
        ""
      ],
      "execution_count": null,
      "outputs": []
    }
  ]
}