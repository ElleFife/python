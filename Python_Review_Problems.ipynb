{
  "nbformat": 4,
  "nbformat_minor": 0,
  "metadata": {
    "colab": {
      "name": "Python_Review_Problems.ipynb",
      "provenance": []
    },
    "kernelspec": {
      "name": "python3",
      "display_name": "Python 3"
    },
    "language_info": {
      "name": "python"
    }
  },
  "cells": [
    {
      "cell_type": "markdown",
      "metadata": {
        "id": "9C7MWZ-jfYmE"
      },
      "source": [
        "#**Python Programming Problems**\n",
        "In case you forgot basic python concepts, go [here](https://adriann.github.io/programming_problems.html)\n"
      ]
    },
    {
      "cell_type": "markdown",
      "metadata": {
        "id": "uLQ8SFnMzbV9"
      },
      "source": [
        "## Elementary Problems"
      ]
    },
    {
      "cell_type": "code",
      "metadata": {
        "colab": {
          "base_uri": "https://localhost:8080/"
        },
        "id": "Ecl7E74ifXhK",
        "outputId": "92166514-1133-4c6d-925d-4a924d3910cc"
      },
      "source": [
        "#Write a program that prints ‘Hello World’ to the screen.\n",
        "def fun():\n",
        "  print('hello world')\n",
        "\n",
        "fun()"
      ],
      "execution_count": 1,
      "outputs": [
        {
          "output_type": "stream",
          "text": [
            "hello world\n"
          ],
          "name": "stdout"
        }
      ]
    },
    {
      "cell_type": "code",
      "metadata": {
        "colab": {
          "base_uri": "https://localhost:8080/"
        },
        "id": "e0Y21l-bfdbj",
        "outputId": "fa85ec73-ba7f-473c-aaae-bf2bc0f03419"
      },
      "source": [
        "#Write a program that asks the user for their name and greets them with their name.\n",
        "def askname():\n",
        "  name = 'Lauren'\n",
        "  print('What is your name?')\n",
        "  print('Hello ' + name)\n",
        "\n",
        "askname()"
      ],
      "execution_count": 2,
      "outputs": [
        {
          "output_type": "stream",
          "text": [
            "What is your name?\n",
            "Hello Lauren\n"
          ],
          "name": "stdout"
        }
      ]
    },
    {
      "cell_type": "code",
      "metadata": {
        "colab": {
          "base_uri": "https://localhost:8080/"
        },
        "id": "DIsuwN5jffAr",
        "outputId": "ca766dfe-f302-40d8-fad3-9e120c71116f"
      },
      "source": [
        "#Modify the previous program such that only the users Alice and Bob are greeted with their names.\n",
        "def askname():\n",
        "  name1 = 'Alice'\n",
        "  name2 = 'Bob'\n",
        "  print('What is your name?')\n",
        "  print('Hello ' + name1 + ' Hello ' + name2)\n",
        "\n",
        "askname()"
      ],
      "execution_count": 3,
      "outputs": [
        {
          "output_type": "stream",
          "text": [
            "What is your name?\n",
            "Hello Alice Hello Bob\n"
          ],
          "name": "stdout"
        }
      ]
    },
    {
      "cell_type": "code",
      "metadata": {
        "colab": {
          "base_uri": "https://localhost:8080/"
        },
        "id": "sKJx6vHIfhH8",
        "outputId": "96f4d8c0-d75a-4eca-bcfb-dcc022ee8209"
      },
      "source": [
        "#Write a program that asks the user for a number n and prints the sum of the numbers 1 to n\n",
        "def asknumber():\n",
        "  n = 5\n",
        "  n2 = 1 + 2 + 3 + 4\n",
        "  print(n + n2)\n",
        "\n",
        "asknumber()"
      ],
      "execution_count": 4,
      "outputs": [
        {
          "output_type": "stream",
          "text": [
            "15\n"
          ],
          "name": "stdout"
        }
      ]
    },
    {
      "cell_type": "code",
      "metadata": {
        "colab": {
          "base_uri": "https://localhost:8080/"
        },
        "id": "b6t9rDnTfljM",
        "outputId": "e6fe5922-6e9f-4cbd-e405-47ba5dbd9146"
      },
      "source": [
        "#Modify the previous program such that \n",
        "#only multiples of three or five are considered in the sum, e.g. 3, 5, 6, 9, 10, 12, 15 for n=17\n",
        "\n",
        "num=int(input(\"Enter the Number \" ))\n",
        "sum=0\n",
        "\n",
        "for i in range(1, num + 1):\n",
        "        sum = sum+ i\n",
        "print(sum)"
      ],
      "execution_count": 5,
      "outputs": [
        {
          "output_type": "stream",
          "text": [
            "Enter the Number 15\n",
            "120\n"
          ],
          "name": "stdout"
        }
      ]
    },
    {
      "cell_type": "code",
      "metadata": {
        "colab": {
          "base_uri": "https://localhost:8080/"
        },
        "id": "funTnBDefRlG",
        "outputId": "532fb94d-1505-4745-ce83-00067e6e554f"
      },
      "source": [
        "#Write a program that asks the user for a number n and gives them the\n",
        "#possibility to choose between computing the sum and computing the product of 1,…,n.\n",
        "\n",
        "def asknum(n):\n",
        "  result = 0\n",
        "  \n",
        "  for x in range(1, n+1):\n",
        "    result = result + sumofDigits(x)\n",
        "\n",
        "  return result\n",
        "\n",
        "def sumofDigits(x):\n",
        "  sum = 0\n",
        "  while (x != 0):\n",
        "    sum = sum + x % 10 \n",
        "    x = x // 10\n",
        "\n",
        "  return sum\n",
        "\n",
        "n = 24\n",
        "print(\"sum of digits in numbers from 1 to \", n, \"is\", sumofDigits(n))"
      ],
      "execution_count": 6,
      "outputs": [
        {
          "output_type": "stream",
          "text": [
            "sum of digits in numbers from 1 to  24 is 6\n"
          ],
          "name": "stdout"
        }
      ]
    },
    {
      "cell_type": "code",
      "metadata": {
        "colab": {
          "base_uri": "https://localhost:8080/"
        },
        "id": "9FjjFLdggSyG",
        "outputId": "788544db-8c93-4458-c53c-c6823f230981"
      },
      "source": [
        "# Write a program that prints a multiplication table for numbers up to 12.\n",
        "\n",
        "num = int(input(\"Enter the number: \"))\n",
        "\n",
        "print(\"Multiplication Table of\", num)\n",
        "for i in range(1, 11):\n",
        "   print(num,\"X\",i,\"=\",num * i)"
      ],
      "execution_count": 22,
      "outputs": [
        {
          "output_type": "stream",
          "text": [
            "Enter the number: 12\n",
            "Multiplication Table of 12\n",
            "12 X 1 = 12\n",
            "12 X 2 = 24\n",
            "12 X 3 = 36\n",
            "12 X 4 = 48\n",
            "12 X 5 = 60\n",
            "12 X 6 = 72\n",
            "12 X 7 = 84\n",
            "12 X 8 = 96\n",
            "12 X 9 = 108\n",
            "12 X 10 = 120\n"
          ],
          "name": "stdout"
        }
      ]
    },
    {
      "cell_type": "code",
      "metadata": {
        "colab": {
          "base_uri": "https://localhost:8080/"
        },
        "id": "rwLURu5sgf4t",
        "outputId": "8dbc7cfb-3f21-4bab-f59d-104740276552"
      },
      "source": [
        "# Write a program that prints all prime numbers. (Note: if your programming \n",
        "# language does not support arbitrary size numbers, printing all primes up to the largest number you can easily represent is fine too.)\n",
        "\n",
        "prime_start = 100\n",
        "prime_end = 300\n",
        "\n",
        "print(\"Prime numbers between\", prime_start , \"and\", prime_end , \"are:\")\n",
        "for num in range(prime_start, prime_end + 1):\n",
        "    # all prime numbers are > 1\n",
        "    if num > 1:\n",
        "      for i in range(2, num):\n",
        "        if (num % i) == 0:\n",
        "          break\n",
        "      else:\n",
        "        print(num)\n",
        "\n",
        "\n",
        "\n"
      ],
      "execution_count": 10,
      "outputs": [
        {
          "output_type": "stream",
          "text": [
            "Prime numbers between 100 and 300 are:\n",
            "101\n",
            "103\n",
            "107\n",
            "109\n",
            "113\n",
            "127\n",
            "131\n",
            "137\n",
            "139\n",
            "149\n",
            "151\n",
            "157\n",
            "163\n",
            "167\n",
            "173\n",
            "179\n",
            "181\n",
            "191\n",
            "193\n",
            "197\n",
            "199\n",
            "211\n",
            "223\n",
            "227\n",
            "229\n",
            "233\n",
            "239\n",
            "241\n",
            "251\n",
            "257\n",
            "263\n",
            "269\n",
            "271\n",
            "277\n",
            "281\n",
            "283\n",
            "293\n"
          ],
          "name": "stdout"
        }
      ]
    },
    {
      "cell_type": "code",
      "metadata": {
        "colab": {
          "base_uri": "https://localhost:8080/"
        },
        "id": "O_1pMjO4glM3",
        "outputId": "e2c9803f-d851-48b7-b31c-e3ee4e08a2f2"
      },
      "source": [
        "# Write a program that prints the next 20 leap years.\n",
        "import calendar\n",
        "\n",
        "def pred_leap(year, num_of_years):\n",
        "  leap_year_count = 0\n",
        "  while leap_year_count < num_of_years:\n",
        "    if calendar.isleap(year):\n",
        "      print('{} is a leap year!'.format(year))\n",
        "      leap_year_count += 1\n",
        "    year += 1\n",
        "\n",
        "#test run\n",
        "pred_leap(2020, 20)\n",
        "\n",
        "\n"
      ],
      "execution_count": 8,
      "outputs": [
        {
          "output_type": "stream",
          "text": [
            "2020 is a leap year!\n",
            "2024 is a leap year!\n",
            "2028 is a leap year!\n",
            "2032 is a leap year!\n",
            "2036 is a leap year!\n",
            "2040 is a leap year!\n",
            "2044 is a leap year!\n",
            "2048 is a leap year!\n",
            "2052 is a leap year!\n",
            "2056 is a leap year!\n",
            "2060 is a leap year!\n",
            "2064 is a leap year!\n",
            "2068 is a leap year!\n",
            "2072 is a leap year!\n",
            "2076 is a leap year!\n",
            "2080 is a leap year!\n",
            "2084 is a leap year!\n",
            "2088 is a leap year!\n",
            "2092 is a leap year!\n",
            "2096 is a leap year!\n"
          ],
          "name": "stdout"
        }
      ]
    },
    {
      "cell_type": "code",
      "metadata": {
        "colab": {
          "base_uri": "https://localhost:8080/"
        },
        "id": "Lqg_Mb7KgwPh",
        "outputId": "6c3f5ee6-a5d3-4380-818f-da4299c7fbf5"
      },
      "source": [
        "# Write a program that computes the sum of an alternating series where each element of the series \n",
        "# is an expression of the form ((-1)^{k+1})/(2 * k-1) for each value of k from 1 to a million, multiplied by 4. Or, in more mathematical notation\n",
        "\n",
        "'4\\cdot \\sum_{k=1}^{10^6} \\frac{(-1)^{k+1}}{2k-1} = 4\\cdot(1-1/3+1/5-1/7+1/9-1/11\\ldots).'\n",
        "\n",
        "n = int(input(\"Integer n: \"))\n",
        "result = sum(n, (-1)**(k+1) * k**2) for k in range(1, n + 1)\n",
        "  print(result)\n",
        "\n",
        "# REVISIT AND FIX!\n"
      ],
      "execution_count": 25,
      "outputs": [
        {
          "output_type": "stream",
          "text": [
            "Integer n: 6\n",
            "1\n",
            "-4\n",
            "9\n",
            "-16\n",
            "25\n",
            "-36\n"
          ],
          "name": "stdout"
        }
      ]
    },
    {
      "cell_type": "code",
      "metadata": {
        "colab": {
          "base_uri": "https://localhost:8080/"
        },
        "id": "fpc7BCIO2f87",
        "outputId": "c139039a-0ab5-47d0-c816-7a2ec844815f"
      },
      "source": [
        "'''Use the variables k and total to write a while loop that computes the sum of the squares of the first 50 counting numbers, \n",
        "and associates that value with total. \n",
        "Thus your code should associate 11 + 22 + 33 +... + 4949 + 50*50 with total. \n",
        "Use no variables other than k and total'''\n",
        "\n",
        "k=0\n",
        "total=0\n",
        "while k<50:\n",
        "  k+=1\n",
        "  total+=k*k\n",
        "print(k)\n",
        "print(total)"
      ],
      "execution_count": 21,
      "outputs": [
        {
          "output_type": "stream",
          "text": [
            "50\n",
            "42925\n"
          ],
          "name": "stdout"
        }
      ]
    },
    {
      "cell_type": "markdown",
      "metadata": {
        "id": "ipFRzwYF29Xx"
      },
      "source": [
        "## Lists and Strings"
      ]
    },
    {
      "cell_type": "code",
      "metadata": {
        "id": "1X4EmCyL2ln2"
      },
      "source": [
        "# Write a function that returns the largest element in a list.\n",
        "\n",
        "def return_largest_element(list):\n",
        "  largest = 0\n",
        "  for x in range(0, len([1,2,3])):\n",
        "    if(array[x] > largest):\n",
        "      largest = array[x]\n",
        "      print(largest)\n",
        "  return largest"
      ],
      "execution_count": 1,
      "outputs": []
    },
    {
      "cell_type": "code",
      "metadata": {
        "colab": {
          "base_uri": "https://localhost:8080/"
        },
        "id": "3FDB8fpUs8Bm",
        "outputId": "cfb3fe5a-7611-43b1-f77f-02d0d974ee65"
      },
      "source": [
        "# Write a function that reverses a list, preferably in place.\n",
        "\n",
        "def Reverse(lst):\n",
        "    lst.reverse()\n",
        "    return lst\n",
        "      \n",
        "lst = [10, 11, 12, 13, 14, 15]\n",
        "print(Reverse(lst))"
      ],
      "execution_count": 14,
      "outputs": [
        {
          "output_type": "stream",
          "text": [
            "[15, 14, 13, 12, 11, 10]\n"
          ],
          "name": "stdout"
        }
      ]
    },
    {
      "cell_type": "code",
      "metadata": {
        "colab": {
          "base_uri": "https://localhost:8080/"
        },
        "id": "JSWoRNmws8Zi",
        "outputId": "08ce9a28-5cf3-4bdd-b490-e530f79aca5c"
      },
      "source": [
        "# Write a function that checks whether an element occurs in a list.\n",
        "num_list = [ 1, 6, 3, 5, 3, 4 ]\n",
        "\n",
        "for i in num_list:\n",
        "    if(i == 5 and 6) :\n",
        "        print (\"Element Exists\")\n",
        "  \n",
        "print(\"Checking if 5 and 6 exists in list ( using in ) : \")"
      ],
      "execution_count": 19,
      "outputs": [
        {
          "output_type": "stream",
          "text": [
            "Element Exists\n",
            "Checking if 5 and 6 exists in list ( using in ) : \n"
          ],
          "name": "stdout"
        }
      ]
    },
    {
      "cell_type": "code",
      "metadata": {
        "colab": {
          "base_uri": "https://localhost:8080/"
        },
        "id": "ibBz8-X719uU",
        "outputId": "ffc62085-ce58-49c9-8bb5-97ce5ffadae0"
      },
      "source": [
        "# Write a function that returns the elements on odd positions in a list.\n",
        "\n",
        "lst = [33, 25, 65, 72, 11, 89, 22, 54, 111, 425, 226]\n",
        "\n",
        "lst_length = len(lst)\n",
        "\n",
        "for i in range(1, lst_length, 2):\n",
        "  print(lst[i], end=\" \")"
      ],
      "execution_count": 1,
      "outputs": [
        {
          "output_type": "stream",
          "text": [
            "25 72 89 54 425 "
          ],
          "name": "stdout"
        }
      ]
    },
    {
      "cell_type": "code",
      "metadata": {
        "colab": {
          "base_uri": "https://localhost:8080/"
        },
        "id": "ByQCMlQf2UiF",
        "outputId": "ff2f36d9-4565-4363-9402-3a8c5e4e6a3d"
      },
      "source": [
        "# Write a function that computes the running total of a list.\n",
        "\n",
        "lst = [33, 25, 65, 72, 11, 89, 22, 54, 111, 425, 226]\n",
        "\n",
        "def listTotal(lst):\n",
        "  new_list = []\n",
        "  length = len(lst)\n",
        "  new_list = [sum(lst[0:x:1]) for x in range(0, length+1)]\n",
        "  return new_list[1:]\n",
        "\n",
        "print(listTotal(lst))"
      ],
      "execution_count": 2,
      "outputs": [
        {
          "output_type": "stream",
          "text": [
            "[33, 58, 123, 195, 206, 295, 317, 371, 482, 907, 1133]\n"
          ],
          "name": "stdout"
        }
      ]
    },
    {
      "cell_type": "code",
      "metadata": {
        "colab": {
          "base_uri": "https://localhost:8080/"
        },
        "id": "U2DBhat32V6z",
        "outputId": "25370779-0266-4c7e-c563-be4083f47085"
      },
      "source": [
        "# Write a function that tests whether a string is a palindrome.\n",
        "# Reminder: a palindrome is a number (such as 1881) that reads the same backward or forward\n",
        "\n",
        "def palindrome(string):\n",
        "  return string == string[::-1]\n",
        "\n",
        "string = 'racecar'\n",
        "output = palindrome(string)\n",
        "\n",
        "if output:\n",
        "  print('Yes, this is a palindrome.')\n",
        "else:\n",
        "  print('No, this aint a palindrome')\n",
        "\n"
      ],
      "execution_count": 3,
      "outputs": [
        {
          "output_type": "stream",
          "text": [
            "Yes, this is a palindrome.\n"
          ],
          "name": "stdout"
        }
      ]
    },
    {
      "cell_type": "code",
      "metadata": {
        "colab": {
          "base_uri": "https://localhost:8080/"
        },
        "id": "htMVYF242YPJ",
        "outputId": "b6842770-1aea-4d3c-8988-5c08d1636cd6"
      },
      "source": [
        "# Write three functions that compute the sum of the numbers in a list: using a for-loop, a while-loop and recursion. \n",
        "# (Subject to availability of these constructs in your language of choice.)\n",
        "# REMINDER: BE AWARE OF YOUR INDENTATIONS!\n",
        "\n",
        "# for-loop\n",
        "def sum_list(numlist):\n",
        "  mySum = 0\n",
        "  for i in numlist:\n",
        "    mySum = mySum + i\n",
        "  return mySum\n",
        "\n",
        "print('The sum of list using a for-loop is: ')\n",
        "print(sum_list([3, 6, 9, 12, 15]))\n"
      ],
      "execution_count": 9,
      "outputs": [
        {
          "output_type": "stream",
          "text": [
            "The sum of list using a for-loop is: \n",
            "45\n"
          ],
          "name": "stdout"
        }
      ]
    },
    {
      "cell_type": "code",
      "metadata": {
        "colab": {
          "base_uri": "https://localhost:8080/"
        },
        "id": "NRTNtTKmtnJ6",
        "outputId": "cc63bb9d-03ba-433a-e081-eb94b64d0c5b"
      },
      "source": [
        "# while-loop\n",
        "total = 0\n",
        "elements = 0\n",
        "list1 = [1, 2, 3, 4, 5]\n",
        "\n",
        "while (elements < len(list1)):\n",
        "  total = total + list1[elements]\n",
        "  elements += 1\n",
        "\n",
        "print('The sum of list using while-loop is: ', total)\n"
      ],
      "execution_count": 27,
      "outputs": [
        {
          "output_type": "stream",
          "text": [
            "The sum of list using while-loop is:  15\n"
          ],
          "name": "stdout"
        }
      ]
    },
    {
      "cell_type": "code",
      "metadata": {
        "colab": {
          "base_uri": "https://localhost:8080/"
        },
        "id": "-wYghjslO6nE",
        "outputId": "d2c8fe99-3364-492c-9ef2-b79231c30551"
      },
      "source": [
        "# recursion\n",
        "\n",
        "def sum_list(numlist):\n",
        "  if len(numlist) == 1:\n",
        "    return numlist[0]\n",
        "  else:\n",
        "    return numlist[0] + sum_list(numlist[1:])\n",
        "print(sum_list([2,4,6,8,10]))\n"
      ],
      "execution_count": 19,
      "outputs": [
        {
          "output_type": "stream",
          "text": [
            "30\n"
          ],
          "name": "stdout"
        }
      ]
    },
    {
      "cell_type": "code",
      "metadata": {
        "colab": {
          "base_uri": "https://localhost:8080/"
        },
        "id": "mECrKcll2ey1",
        "outputId": "7f40a6fe-4dba-4007-bc80-a0464bcaa75e"
      },
      "source": [
        "# Write a function that concatenates two lists. [a,b,c], [1,2,3] → [a,b,c,1,2,3]\n",
        "\n",
        "list1 = ['a', 'b', 'c']\n",
        "list2 = [1, 2, 3,]\n",
        "\n",
        "for i in list2:\n",
        "  list1.append(i)\n",
        "\n",
        "print('Whoa! We constucted a concatenated list: ' + str(list1))\n"
      ],
      "execution_count": 4,
      "outputs": [
        {
          "output_type": "stream",
          "text": [
            "Concatenated list: ['a', 'b', 'c', 1, 2, 3]\n"
          ],
          "name": "stdout"
        }
      ]
    },
    {
      "cell_type": "code",
      "metadata": {
        "colab": {
          "base_uri": "https://localhost:8080/"
        },
        "id": "K7CuchmX2gU7",
        "outputId": "87db5943-c63b-4c96-ab49-7a948a743359"
      },
      "source": [
        "# Write a function that combines two lists by alternatingly taking elements, e.g. [a,b,c], [1,2,3] → [a,1,b,2,c,3].\n",
        "\n",
        "list1 = ['a', 'b', 'c']\n",
        "list2 = [1,2,3]\n",
        "\n",
        "def new_list(list1, list2):\n",
        "    output_list = []\n",
        "    for item1, item2 in zip(list1, list2):\n",
        "        output_list.append(item1)\n",
        "        output_list.append(item2)\n",
        "        \n",
        "    return output_list\n",
        "\n",
        "new_list(['a', 'b', 'c'],[1,2,3] )"
      ],
      "execution_count": 18,
      "outputs": [
        {
          "output_type": "execute_result",
          "data": {
            "text/plain": [
              "['a', 1, 'b', 2, 'c', 3]"
            ]
          },
          "metadata": {
            "tags": []
          },
          "execution_count": 18
        }
      ]
    },
    {
      "cell_type": "code",
      "metadata": {
        "colab": {
          "base_uri": "https://localhost:8080/"
        },
        "id": "54OwCNKP2qQm",
        "outputId": "f598356e-60ab-49e4-c0be-3e57fe7b5490"
      },
      "source": [
        "# Write a function that computes the list of the first 100 Fibonacci numbers. \n",
        "# The first two Fibonacci numbers are 1 and 1. \n",
        "# The n+1-st Fibonacci number can be computed by adding the n-th and the n-1-th Fibonacci number. \n",
        "# The first few are therefore 1, 1, 1+1=2, 1+2=3, 2+3=5, 3+5=8.\n",
        "\n",
        "def Fibonacci(n):\n",
        "  if n<0:\n",
        "    print('Incorrect input')\n",
        "  elif n==0: # First fibonacci number is 0\n",
        "    return 0\n",
        "  elif n==1: #Second fibonacci number is 1\n",
        "    return 1\n",
        "  else:\n",
        "    return Fibonacci(n-1) + Fibonacci(n-2)\n",
        "\n",
        "print(Fibonacci(11))\n"
      ],
      "execution_count": 43,
      "outputs": [
        {
          "output_type": "stream",
          "text": [
            "89\n"
          ],
          "name": "stdout"
        }
      ]
    },
    {
      "cell_type": "code",
      "metadata": {
        "colab": {
          "base_uri": "https://localhost:8080/"
        },
        "id": "1bUcWSHB214F",
        "outputId": "26ca5702-d285-4f5b-f1e1-4cbf863e572f"
      },
      "source": [
        "# Write a function that takes a number and returns a list of its digits. So for 2342 it should return [2,3,4,2].\n",
        "num = 2342\n",
        "\n",
        "print('The original number is: ' + str(num))\n",
        "\n",
        "return_list = [int(x) for x in str(num)]\n",
        "print('The list from number is ' + str(return_list))\n",
        "\n"
      ],
      "execution_count": 33,
      "outputs": [
        {
          "output_type": "stream",
          "text": [
            "The original number is: 2342\n",
            "The list from number is [2, 3, 4, 2]\n"
          ],
          "name": "stdout"
        }
      ]
    },
    {
      "cell_type": "code",
      "metadata": {
        "colab": {
          "base_uri": "https://localhost:8080/"
        },
        "id": "hZB2f6DG3J_l",
        "outputId": "b2b1b4b4-a621-4d27-f0c8-7832fe5529a1"
      },
      "source": [
        "# Write a function that takes a list of strings an prints them, one per line, in a rectangular frame. \n",
        "# For example the list [\"Hello\", \"World\", \"in\", \"a\", \"frame\"] gets printed as:\n",
        "'''\n",
        "*********\n",
        "* Hello *\n",
        "* World *\n",
        "* in    *\n",
        "* a     *\n",
        "* frame *\n",
        "*********\n",
        "'''\n",
        "\n",
        "words = [\"Hello\", \"World\", \"in\", \"a\", \"frame\"]\n",
        "\n",
        "def single_string_in_frame(*words):\n",
        "  size = max(len(word) for word in words)\n",
        "  print ('*' * (size + 4))\n",
        "  for word in words:\n",
        "    print('* {:<{}} *'.format(word, size))\n",
        "  print('*' * (size + 4))\n",
        "\n",
        "single_string_in_frame(\"Hello\", \"World\", \"in\", \"a\", \"frame\")"
      ],
      "execution_count": 15,
      "outputs": [
        {
          "output_type": "stream",
          "text": [
            "*********\n",
            "* Hello *\n",
            "* World *\n",
            "* in    *\n",
            "* a     *\n",
            "* frame *\n",
            "*********\n"
          ],
          "name": "stdout"
        }
      ]
    },
    {
      "cell_type": "code",
      "metadata": {
        "colab": {
          "base_uri": "https://localhost:8080/"
        },
        "id": "7hSqxETI293b",
        "outputId": "bd69bb97-a32e-42b9-cc98-4f19d75a0566"
      },
      "source": [
        "# Write function that translates a text to Pig Latin and back. English is translated to Pig Latin by taking the first letter of every word, \n",
        "# moving it to the end of the word and adding ‘ay’. \n",
        "# “The quick brown fox” becomes “Hetay uickqay rownbay oxfay”.\n",
        "# REVIEW, CORRECT, PRACTISE\n",
        "\n",
        "newWords = []\n",
        "\n",
        "# Find the first letter\n",
        "words = 'The quick brown fox'\n",
        "print(words[0])\n",
        "\n",
        "for letter in words: #iterating through letters of each word in words phrase\n",
        "  newWord = letter[1:] + letter[0] + 'ay' #moving first letter of each word to end and adding ay\n",
        "  newWords.append(newWord)\n",
        "  print(newWord)\n",
        "print(newWords)\n"
      ],
      "execution_count": 40,
      "outputs": [
        {
          "output_type": "stream",
          "text": [
            "T\n",
            "Tay\n",
            "hay\n",
            "eay\n",
            " ay\n",
            "qay\n",
            "uay\n",
            "iay\n",
            "cay\n",
            "kay\n",
            " ay\n",
            "bay\n",
            "ray\n",
            "oay\n",
            "way\n",
            "nay\n",
            " ay\n",
            "fay\n",
            "oay\n",
            "xay\n",
            "['Tay', 'hay', 'eay', ' ay', 'qay', 'uay', 'iay', 'cay', 'kay', ' ay', 'bay', 'ray', 'oay', 'way', 'nay', ' ay', 'fay', 'oay', 'xay']\n"
          ],
          "name": "stdout"
        }
      ]
    },
    {
      "cell_type": "code",
      "metadata": {
        "colab": {
          "base_uri": "https://localhost:8080/"
        },
        "id": "zN6h4nhA1Zl4",
        "outputId": "c86b7d1c-67a2-4a36-cc1f-fc537f8236a9"
      },
      "source": [
        "def pigLatin():\n",
        "    words = str(input(\"Input Sentence:\")).split()\n",
        "    for word in words:\n",
        "        print(word[1:] + word[0] + \"ay\", end = \" \")\n",
        "    print ()\n",
        "\n",
        "pigLatin()"
      ],
      "execution_count": 41,
      "outputs": [
        {
          "output_type": "stream",
          "text": [
            "Input Sentence:The quick brown fox\n",
            "heTay uickqay rownbay oxfay \n"
          ],
          "name": "stdout"
        }
      ]
    }
  ]
}