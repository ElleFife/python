{
 "cells": [
  {
   "cell_type": "markdown",
   "metadata": {},
   "source": [
    "# Writing Modules"
   ]
  },
  {
   "cell_type": "markdown",
   "metadata": {},
   "source": [
    "QUESTION 1. Write a simple Rectangle class. It should do the following:\n",
    "\n",
    "\n",
    "Accepts length and width as parameters when creating a new instance\n",
    "Has a perimeter method that returns the perimeter of the rectangle\n",
    "Has an area method that returns the area of the rectangle\n",
    "Don't worry about coordinates or negative values, etc.\n",
    "\n",
    "\n",
    "QUESTION 2. \n",
    "Python provides several modules to allow you to easily extend some of the basic objects in the language. Among these modules are UserDict, UserList, and UserString. (Refer to the chart in Topic 10.3 to see what the methods you need to override look like. Also, since UserDict and UserList are part of the collection module, you can import them using from collections import UserDict and from collections import UserList.)\n",
    "\n",
    "\n",
    "Using the UserList module, create a class called Ulist, and override the __add__, append, and extend methods so that duplicate values will not be added to the list by any of these operations.\n",
    "\n",
    "\n",
    "QUESTION 3. (Extra Credit) Using the UserDict module, create a class called AnyCaseDict, which will be just like a dictionary but keys that are strings will refer to the same value, regardless of the case of the key. For example, the following keys: \"Color\", \"color\", \"COLOR\" and \"coloR\" will refer to the same value.\n",
    "(Hint: Override the built-in __setitem__ and __getitem__ methods.)\n",
    "\n"
   ]
  },
  {
   "cell_type": "code",
   "execution_count": 25,
   "metadata": {},
   "outputs": [
    {
     "name": "stdout",
     "output_type": "stream",
     "text": [
      "1\n",
      "4\n"
     ]
    }
   ],
   "source": [
    "#Super helpful resource https://www.w3resource.com/python-exercises/class-exercises/python-class-exercise-10.php\n",
    "#QUESTION 1\n",
    "\n",
    "class Rectangle:\n",
    "    def __init__(self, width=1, height=1): \n",
    "        self.length = 1\n",
    "        self.width = 1\n",
    "    \n",
    "    def rectangle_area(self):\n",
    "        return self.length*self.width\n",
    "    \n",
    "    def perimeter(self):\n",
    "        return self.length*2 + self.width*2\n",
    "    \n",
    "newRectangle = Rectangle(1, 1)\n",
    "print(newRectangle.rectangle_area())\n",
    "print(newRectangle.perimeter())\n",
    "        "
   ]
  },
  {
   "cell_type": "code",
   "execution_count": 23,
   "metadata": {},
   "outputs": [
    {
     "ename": "NameError",
     "evalue": "name 'Ulist' is not defined",
     "output_type": "error",
     "traceback": [
      "\u001b[0;31m---------------------------------------------------------------------------\u001b[0m",
      "\u001b[0;31mNameError\u001b[0m                                 Traceback (most recent call last)",
      "\u001b[0;32m<ipython-input-23-55acd1cf9e70>\u001b[0m in \u001b[0;36m<module>\u001b[0;34m()\u001b[0m\n\u001b[1;32m     89\u001b[0m         \u001b[0;32mreturn\u001b[0m \u001b[0mself\u001b[0m\u001b[0;34m.\u001b[0m\u001b[0mdata\u001b[0m\u001b[0;34m\u001b[0m\u001b[0;34m\u001b[0m\u001b[0m\n\u001b[1;32m     90\u001b[0m \u001b[0;34m\u001b[0m\u001b[0m\n\u001b[0;32m---> 91\u001b[0;31m \u001b[0mmylist\u001b[0m \u001b[0;34m=\u001b[0m \u001b[0mUlist\u001b[0m\u001b[0;34m(\u001b[0m\u001b[0;34m[\u001b[0m\u001b[0;36m1\u001b[0m\u001b[0;34m,\u001b[0m\u001b[0;36m2\u001b[0m\u001b[0;34m,\u001b[0m\u001b[0;36m3\u001b[0m\u001b[0;34m]\u001b[0m\u001b[0;34m)\u001b[0m\u001b[0;34m\u001b[0m\u001b[0;34m\u001b[0m\u001b[0m\n\u001b[0m\u001b[1;32m     92\u001b[0m \u001b[0;31m#mylist.__add__([5,6])\u001b[0m\u001b[0;34m\u001b[0m\u001b[0;34m\u001b[0m\u001b[0;34m\u001b[0m\u001b[0m\n\u001b[1;32m     93\u001b[0m \u001b[0;31m#mylist.append('a')\u001b[0m\u001b[0;34m\u001b[0m\u001b[0;34m\u001b[0m\u001b[0;34m\u001b[0m\u001b[0m\n",
      "\u001b[0;31mNameError\u001b[0m: name 'Ulist' is not defined"
     ]
    }
   ],
   "source": [
    "#QUESTION 2\n",
    "#from collections import UserDict\n",
    "#https://www.youtube.com/watch?v=1BsqBbI7SSI&list=PLw02n0FEB3E2RDlD2cBULQjvXJ1K_jS1O&index=24\n",
    "#https://www.youtube.com/watch?v=OwAovKTBoNE\n",
    "\n",
    "'''\n",
    "EXAMPLE 1\n",
    "class UList(UserList):\n",
    "  def append(self,ap_item):\n",
    "    for ap in ap_item:\n",
    "        if ap in self:\n",
    "          raise ValueError(repr(ap) + \" already exists in list\")\n",
    "        else:\n",
    "          return UserList.append(self, ap_item)\n",
    "          \n",
    "  def __add__(self,ad_item):\n",
    "    for ad in ad_item:\n",
    "        if ad in self:\n",
    "          raise ValueError(repr(ad) + \" already exists in list\")\n",
    "        else:\n",
    "          return UserList.__add__(self,ad_item)\n",
    "        \n",
    "  def extend(self, ex_item):\n",
    "    for ex in ex_item:\n",
    "        if ex in self:\n",
    "          raise ValueError(repr(i) + \" already exists in list\")\n",
    "        else:\n",
    "          return UserList.extend(self,ex_item)\n",
    "          \n",
    "*****************\n",
    "EXAMPLE 2\n",
    "def __init__(self, data = [], **kw):\n",
    "        UserList.UserList.__init__(self)\n",
    "        self.data = data\n",
    "\n",
    "    def __add__(self, newvalue):\n",
    "        for item in newvalue:\n",
    "            if item in self.data:\n",
    "                print \"%r already exists, not adding.\" % item\n",
    "            else:\n",
    "                self.data += [item]\n",
    "        return self.data\n",
    "\n",
    "    def append(self,newvalue = None):\n",
    "        if newvalue in self.data: ****IS THIS A BUG BC IT DOESNT HAVE A FOR STATEMENT????***\n",
    "            print \"%r already exists, not adding.\" % newvalue\n",
    "        else:\n",
    "            return self.data.append(newvalue)\n",
    "\n",
    "    def extend(self, newvalue = []):\n",
    "        for item in newvalue:\n",
    "            if item in self.data:\n",
    "                print \"%r already exists, not adding.\" % item\n",
    "            else:\n",
    "                return self.data.extend(item)\n",
    "        return self.data      \n",
    "          \n",
    "          '''\n",
    "\n",
    "from collections import UserList\n",
    "\n",
    "class UList(UserList): #why the use of \".\" instead of \",\"\n",
    "    def __init__(self): #why don't we have type -> (self, type)\n",
    "        UserList.__init__(self)\n",
    "        self.data = data #not sure why the have the \"self\" part of the \"self.data\" here. It's a variable, okay...\n",
    "        return super().__init__()\n",
    "    \n",
    "    def add(self, newvalue):\n",
    "        for item in newvalue: #new value is the object, but not clear where it came from or why its used\n",
    "            if item in self.data:\n",
    "                print(\"%r already exists, will not add.\" % item)\n",
    "            else:\n",
    "                self.data += [item]\n",
    "                return super().add(newvalue)\n",
    "        \n",
    "    def append(self, newvalue):\n",
    "        for newvalue in self.data: #Why is new value used here? Confused bc in the add block it's got another use\n",
    "            if item in self.data:\n",
    "                print(\"%r already exists, will not add.\" % newvalue)\n",
    "            else:\n",
    "                return super().append(newvalue)\n",
    "    \n",
    "    def extend(self, newvalue = []):  #still unclear why we have newvalue here and it's equal to an empty list\n",
    "        for item in newvalue:\n",
    "            if item in self.data:\n",
    "                print(\"%r already exists, will not add.\" % item)\n",
    "            else:\n",
    "                return super().extend(newvalue)\n",
    "        return self.data\n",
    "    \n",
    "mylist = Ulist([3,4,5])\n",
    "print(mylist)\n",
    "\n"
   ]
  },
  {
   "cell_type": "code",
   "execution_count": 20,
   "metadata": {},
   "outputs": [
    {
     "ename": "NameError",
     "evalue": "name 'Ulist' is not defined",
     "output_type": "error",
     "traceback": [
      "\u001b[0;31m---------------------------------------------------------------------------\u001b[0m",
      "\u001b[0;31mNameError\u001b[0m                                 Traceback (most recent call last)",
      "\u001b[0;32m<ipython-input-20-d283121dc821>\u001b[0m in \u001b[0;36m<module>\u001b[0;34m()\u001b[0m\n\u001b[0;32m----> 1\u001b[0;31m \u001b[0mmylist\u001b[0m \u001b[0;34m=\u001b[0m \u001b[0mUlist\u001b[0m\u001b[0;34m(\u001b[0m\u001b[0;34m[\u001b[0m\u001b[0;36m1\u001b[0m\u001b[0;34m,\u001b[0m\u001b[0;36m2\u001b[0m\u001b[0;34m,\u001b[0m\u001b[0;36m3\u001b[0m\u001b[0;34m]\u001b[0m\u001b[0;34m)\u001b[0m\u001b[0;34m\u001b[0m\u001b[0;34m\u001b[0m\u001b[0m\n\u001b[0m\u001b[1;32m      2\u001b[0m \u001b[0;31m#mylist.__add__([5,6])\u001b[0m\u001b[0;34m\u001b[0m\u001b[0;34m\u001b[0m\u001b[0;34m\u001b[0m\u001b[0m\n\u001b[1;32m      3\u001b[0m \u001b[0;31m#mylist.append('a')\u001b[0m\u001b[0;34m\u001b[0m\u001b[0;34m\u001b[0m\u001b[0;34m\u001b[0m\u001b[0m\n\u001b[1;32m      4\u001b[0m \u001b[0;31m#mylist.append([3])\u001b[0m\u001b[0;34m\u001b[0m\u001b[0;34m\u001b[0m\u001b[0;34m\u001b[0m\u001b[0m\n\u001b[1;32m      5\u001b[0m \u001b[0;31m#mylist.extend([1,2,3,'a'])\u001b[0m\u001b[0;34m\u001b[0m\u001b[0;34m\u001b[0m\u001b[0;34m\u001b[0m\u001b[0m\n",
      "\u001b[0;31mNameError\u001b[0m: name 'Ulist' is not defined"
     ]
    }
   ],
   "source": []
  },
  {
   "cell_type": "code",
   "execution_count": 24,
   "metadata": {},
   "outputs": [
    {
     "ename": "NameError",
     "evalue": "name 'Ulist' is not defined",
     "output_type": "error",
     "traceback": [
      "\u001b[0;31m---------------------------------------------------------------------------\u001b[0m",
      "\u001b[0;31mNameError\u001b[0m                                 Traceback (most recent call last)",
      "\u001b[0;32m<ipython-input-24-ee1df388476e>\u001b[0m in \u001b[0;36m<module>\u001b[0;34m()\u001b[0m\n\u001b[1;32m     30\u001b[0m         \u001b[0;32mreturn\u001b[0m \u001b[0mself\u001b[0m\u001b[0;34m.\u001b[0m\u001b[0mdata\u001b[0m\u001b[0;34m\u001b[0m\u001b[0;34m\u001b[0m\u001b[0m\n\u001b[1;32m     31\u001b[0m \u001b[0;34m\u001b[0m\u001b[0m\n\u001b[0;32m---> 32\u001b[0;31m \u001b[0mmylist\u001b[0m \u001b[0;34m=\u001b[0m \u001b[0mUlist\u001b[0m\u001b[0;34m(\u001b[0m\u001b[0;34m[\u001b[0m\u001b[0;36m3\u001b[0m\u001b[0;34m,\u001b[0m\u001b[0;36m4\u001b[0m\u001b[0;34m,\u001b[0m\u001b[0;36m5\u001b[0m\u001b[0;34m]\u001b[0m\u001b[0;34m)\u001b[0m\u001b[0;34m\u001b[0m\u001b[0;34m\u001b[0m\u001b[0m\n\u001b[0m\u001b[1;32m     33\u001b[0m \u001b[0mprint\u001b[0m\u001b[0;34m(\u001b[0m\u001b[0mmylist\u001b[0m\u001b[0;34m)\u001b[0m\u001b[0;34m\u001b[0m\u001b[0;34m\u001b[0m\u001b[0m\n",
      "\u001b[0;31mNameError\u001b[0m: name 'Ulist' is not defined"
     ]
    }
   ],
   "source": [
    "from collections import UserList\n",
    "\n",
    "class UList(UserList): #why the use of \".\" instead of \",\"\n",
    "    def __init__(self): #why don't we have type -> (self, type)\n",
    "        UserList.__init__(self)\n",
    "        self.data = data #not sure why the have the \"self\" part of the \"self.data\" here. It's a variable, okay...\n",
    "        return super().__init__()\n",
    "    \n",
    "    def add(self, newvalue):\n",
    "        for item in newvalue: #new value is the object, but not clear where it came from or why its used\n",
    "            if item in self.data:\n",
    "                print(\"%r already exists, will not add.\" % item)\n",
    "            else:\n",
    "                self.data += [item]\n",
    "                return super().add(newvalue)\n",
    "        \n",
    "    def append(self, newvalue):\n",
    "        for newvalue in self.data: #Why is new value used here? Confused bc in the add block it's got another use\n",
    "            if item in self.data:\n",
    "                print(\"%r already exists, will not add.\" % newvalue)\n",
    "            else:\n",
    "                return super().append(newvalue)\n",
    "    \n",
    "    def extend(self, newvalue = []):  #still unclear why we have newvalue here and it's equal to an empty list\n",
    "        for item in newvalue:\n",
    "            if item in self.data:\n",
    "                print(\"%r already exists, will not add.\" % item)\n",
    "            else:\n",
    "                return super().extend(newvalue)\n",
    "        return self.data\n",
    "    \n",
    "mylist = Ulist([3,4,5])\n",
    "print(mylist)\n",
    "\n"
   ]
  },
  {
   "cell_type": "code",
   "execution_count": null,
   "metadata": {},
   "outputs": [],
   "source": []
  }
 ],
 "metadata": {
  "kernelspec": {
   "display_name": "Python 3",
   "language": "python",
   "name": "python3"
  },
  "language_info": {
   "codemirror_mode": {
    "name": "ipython",
    "version": 3
   },
   "file_extension": ".py",
   "mimetype": "text/x-python",
   "name": "python",
   "nbconvert_exporter": "python",
   "pygments_lexer": "ipython3",
   "version": "3.6.8"
  }
 },
 "nbformat": 4,
 "nbformat_minor": 2
}
