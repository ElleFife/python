{
 "cells": [
  {
   "cell_type": "markdown",
   "metadata": {},
   "source": [
    "# X442.3 Assignment 6"
   ]
  },
  {
   "cell_type": "markdown",
   "metadata": {},
   "source": [
    "Functions\n",
    "\n",
    "QUESTION 1. \n",
    "Write a function that accepts the name of a file and returns a tuple containing the number of lines, words, and \n",
    "characters that are in the file. (Hint: Use the split function of the string module to help you count the words \n",
    "in the file.) \n",
    "\n",
    "QUESTION 2. \n",
    "Write a function that accepts an arbitrary number of lists and returns a single list with exactly one occurrence \n",
    "of each element that appears in any of the input lists. \n",
    "\n",
    "QUESTION 3. \n",
    "Use the map function to add a constant to each element of a list. Perform the same operation using a list comprehension. \n",
    "For example, the list `(1, 20, 300, 400)` and constant `8`, will result in: `9, 28, 308, 408`\n",
    "\n",
    "QUESTION 4. \n",
    "Write a function that will take a variable number of lists. Each list can contain any number of words. \n",
    "This function should return a dictionary where the words are the keys and the values are the total count of \n",
    "each word in all of the lists\n",
    "\n",
    "For example, if we are given the following lists:\n",
    "```\n",
    "wl1 = [\"double\", \"triple\", \"int\", \"quadruple\"]\n",
    "wl2 = [\"double\", \"home run\"]\n",
    "wl3 = [\"int\", \"double\", \"float\"]\n",
    "```\n",
    "\n",
    "\n",
    "the function should output the following dictionary (The order of the words is not important):\n",
    "`{'float': 1, 'int': 2, 'quadruple': 1, 'home run': 1, 'triple': 1, 'double': 3}`\n",
    "\n",
    "Note, you may have to create an empty dictionary first (for example: `dict = {}`).\n",
    "\n",
    "QUESTION 5. (Optional) \n",
    "Write a function that combines several dictionaries by creating a new dictionary with all the \n",
    "keys of the original ones. If a key appears in more than one input dictionary, the value corresponding to that \n",
    "key in the new dictionary should be a list containing all the values encountered in the input dictionaries that \n",
    "correspond to that key.'''"
   ]
  },
  {
   "cell_type": "code",
   "execution_count": 14,
   "metadata": {},
   "outputs": [
    {
     "name": "stdout",
     "output_type": "stream",
     "text": [
      "(6, 37, 207)\n"
     ]
    }
   ],
   "source": [
    "'''QUESTION 1. \n",
    "Write a function that accepts the name of a file and \n",
    "returns a tuple containing the number of lines, words, and \n",
    "characters that are in the file. \n",
    "(Hint: Use the split function of the string module to help you count the words \n",
    "in the file.) '''\n",
    "\n",
    "def file_to_tuple(my_filename): \n",
    "    with open(my_filename, 'r') as infile:\n",
    "        lines = infile.read().split(\"\\n\")\n",
    "        line_count = len(lines)\n",
    "        word_count = 0\n",
    "        char_count = 0\n",
    "    \n",
    "    for line in lines:\n",
    "        words = line.split()\n",
    "        word_count += len(words)\n",
    "        char_count += len(line)\n",
    "    return(line_count, word_count, char_count)\n",
    "\n",
    "results = file_to_tuple('dingbat')\n",
    "print(results)\n",
    "    "
   ]
  },
  {
   "cell_type": "code",
   "execution_count": 35,
   "metadata": {},
   "outputs": [
    {
     "data": {
      "text/plain": [
       "[3, 4, 5, 6, 8, 9, 10, 12, 15, 16, 20, 25]"
      ]
     },
     "execution_count": 35,
     "metadata": {},
     "output_type": "execute_result"
    }
   ],
   "source": [
    "'''QUESTION 2.\n",
    "Write a function that accepts an arbitrary number of lists and \n",
    "returns a single list with exactly one occurrence of each element \n",
    "that appears in any of the input lists.'''\n",
    "\n",
    "\n",
    "def single_list(*argv):\n",
    "    \n",
    "    sum_lst = []\n",
    "    for lst in argv:\n",
    "        sum_lst += lst\n",
    "    return list(set(sum_lst))\n",
    "\n",
    "list_1 = [3,6,9,12,15]\n",
    "list_2 = [5,10,15,20,25]\n",
    "list_3 = [4,8,12,16,20]\n",
    "    \n",
    "single_list(list_1, list_2, list_3)\n",
    "\n",
    "\n"
   ]
  },
  {
   "cell_type": "code",
   "execution_count": 4,
   "metadata": {},
   "outputs": [
    {
     "name": "stdout",
     "output_type": "stream",
     "text": [
      "[9, 28, 308, 408]\n"
     ]
    }
   ],
   "source": [
    "'''QUESTION 3. \n",
    "PART A: Use the map function to add a constant to each element of a list. \n",
    "PART B: Perform the same operation using a list comprehension. \n",
    "For example, the list (1, 20, 300, 400) and constant 8, will result in: 9, 28, 308, 408\n",
    "'''\n",
    "\n",
    "#Part A: Using map function\n",
    "def add_constant(n):\n",
    "    return n + 8\n",
    "\n",
    "lst_numbers = (1, 20, 300, 400)\n",
    "result = map(add_constant, lst_numbers)\n",
    "print(list(result))"
   ]
  },
  {
   "cell_type": "code",
   "execution_count": 5,
   "metadata": {},
   "outputs": [
    {
     "data": {
      "text/plain": [
       "[9, 28, 308, 408]"
      ]
     },
     "execution_count": 5,
     "metadata": {},
     "output_type": "execute_result"
    }
   ],
   "source": [
    "'''QUESTION 3. \n",
    "PART A: Use the map function to add a constant to each element of a list. \n",
    "PART B: Perform the same operation using a list comprehension. \n",
    "For example, the list (1, 20, 300, 400) and constant 8, will result in: 9, 28, 308, 408\n",
    "'''\n",
    "\n",
    "#Part B: Using List Comprehension\n",
    "#do I need to use a lambda?\n",
    "def add_constant(n):\n",
    "    return n + 8\n",
    "    print(n)\n",
    "lst_numbers = (1, 20, 300, 400)\n",
    "result = [n + 8 for n in lst_numbers]\n",
    "result\n",
    "\n",
    "\n"
   ]
  },
  {
   "cell_type": "code",
   "execution_count": 32,
   "metadata": {},
   "outputs": [
    {
     "data": {
      "text/plain": [
       "{'double': 4, 'triple': 1, 'int': 2, 'quadruple': 1, 'home run': 1, 'float': 1}"
      ]
     },
     "execution_count": 32,
     "metadata": {},
     "output_type": "execute_result"
    }
   ],
   "source": [
    "'''QUESTION 4. \n",
    "Write a function that will take a variable number of lists. \n",
    "Each list can contain any number of words. \n",
    "This function should return a dictionary where the words are the keys \n",
    "and the values are the total count of each word in all of the lists\n",
    "\n",
    "For example, if we are given the following lists:\n",
    "\n",
    "wl1 = [\"double\", \"triple\", \"int\", \"quadruple\"]\n",
    "wl2 = [\"double\", \"home run\"]\n",
    "wl3 = [\"int\", \"double\", \"float\"]\n",
    "the function should output the following dictionary \n",
    "(The order of the words is not important): \n",
    "{'float': 1, 'int': 2, 'quadruple': 1, 'home run': 1, 'triple': 1, 'double': 3}\n",
    "\n",
    "Note, you may have to create an empty dictionary first \n",
    "(for example: dict = {}).'''\n",
    "\n",
    "word_list = [\"double\", \"triple\", \"int\", \"quadruple\", \"double\"]\n",
    "word_list2 = [\"double\", \"home run\"]\n",
    "word_list3 = [\"int\", \"double\", \"float\"]\n",
    "#TIP:key = thing, count = value\n",
    "\n",
    "def list_taker(*argv):\n",
    "    word_count = {}\n",
    "    for word_list in argv:\n",
    "        for word in word_list:\n",
    "            if word in word_count.keys():\n",
    "                word_count[word] += 1\n",
    "            else:\n",
    "                word_count[word] = 1\n",
    "    return(word_count)\n",
    "    \n",
    "list_taker(word_list,word_list2,word_list3)\n"
   ]
  },
  {
   "cell_type": "code",
   "execution_count": 34,
   "metadata": {},
   "outputs": [
    {
     "data": {
      "text/plain": [
       "{1: 1, 2: 3, 3: 1, 5: 1, 10: 1, 7: 1}"
      ]
     },
     "execution_count": 34,
     "metadata": {},
     "output_type": "execute_result"
    }
   ],
   "source": [
    "#QUESTION 5. (Optional) Write a function that combines several dictionaries by creating a new dictionary \n",
    "#with all the keys of the original ones. If a key appears in more than one input dictionary, \n",
    "#the value corresponding to that key in the new dictionary should be a list containing all the values \n",
    "#encountered in the input dictionaries that correspond to that key.'''\n",
    "\n",
    "    \n",
    "dict_1 = {1: 'apple', 2: 'ball'}\n",
    "dict_2 = {3: 'bean', 5: 'racquet'}\n",
    "dict_3 = {2: 'melon', 10: 'bat'}\n",
    "dict_4 = {7: 'bean', 2: 'racquet'}\n",
    "\n",
    "def new_dict(*argv): \n",
    "    combined_dict = {}\n",
    "    \n",
    "    for dict_1 in argv:\n",
    "        for dicti in dict_1:\n",
    "            if dicti in combined_dict.keys():\n",
    "                combined_dict[dicti] += 1\n",
    "            else:\n",
    "                combined_dict[dicti] = 1\n",
    "    return(combined_dict)\n",
    "\n",
    "new_dict(dict_1, dict_2, dict_3, dict_4)\n",
    "\n",
    "    \n",
    "    \n",
    "    "
   ]
  }
 ],
 "metadata": {
  "kernelspec": {
   "display_name": "Python 3",
   "language": "python",
   "name": "python3"
  },
  "language_info": {
   "codemirror_mode": {
    "name": "ipython",
    "version": 3
   },
   "file_extension": ".py",
   "mimetype": "text/x-python",
   "name": "python",
   "nbconvert_exporter": "python",
   "pygments_lexer": "ipython3",
   "version": "3.6.8"
  }
 },
 "nbformat": 4,
 "nbformat_minor": 2
}
