{
 "cells": [
  {
   "cell_type": "markdown",
   "metadata": {},
   "source": [
    "# ERROR Handling\n",
    "\n",
    "Coding assignments can be saved as .py files when appropriate or .txt files otherwise, for example, you may want to past the code from multiple .py files into a single .txt file. When you've completed the assignment, attach the file(s) to the drop box for this module, which you'll find near the end of the module. Please be sure to include your last name and the course number in the file name of the document, like so: \"your name X442.3 Assignment 7.\"\n",
    "\n",
    "QUESTION 1.\n",
    "Suppose you want to determine whether an arbitrary text string can be converted to a number. Write a function that uses a try/except clause to solve this problem. Can you think of another way to solve this problem?\n",
    "\n",
    "QUESTION 2.\n",
    "The input function will read a single line of text from the terminal. If you wanted to read several lines of text, you could embed this function inside a while loop and terminate the loop when the user of the program presses the interrupt key (Ctrl-C under UNIX, Linux and Windows.) Write such a program, and note its behavior when it receives the interrupt signal. Use a try/except clause to make the program behave more gracefully."
   ]
  },
  {
   "cell_type": "code",
   "execution_count": 4,
   "metadata": {},
   "outputs": [],
   "source": [
    "'''QUESTION 1. Suppose you want to determine whether an arbitrary text string can be converted to a number. \n",
    "Write a function that uses a try/except clause to solve this problem. \n",
    "Can you think of another way to solve this problem?'''\n",
    "\n",
    "string = \"Convert me into a number!\"\n",
    "\n",
    "def convert(string):\n",
    "    try:\n",
    "        return int(string)\n",
    "    except ValueError:\n",
    "        if string == \"\":\n",
    "            return 0\n",
    "        else:\n",
    "            return \"Bummer - it's still a string\"\n",
    "        \n",
    "''' Need to do the alternate option - not sure how!'''"
   ]
  },
  {
   "cell_type": "code",
   "execution_count": 5,
   "metadata": {},
   "outputs": [
    {
     "data": {
      "text/plain": [
       "\"Bummer - it's still a string\""
      ]
     },
     "execution_count": 5,
     "metadata": {},
     "output_type": "execute_result"
    }
   ],
   "source": [
    "convert(string)"
   ]
  },
  {
   "cell_type": "code",
   "execution_count": 1,
   "metadata": {},
   "outputs": [
    {
     "name": "stdout",
     "output_type": "stream",
     "text": [
      "['/Users/lpfeifer/anaconda3/lib/python3.6/site-packages/ipykernel_launcher.py', '-f', '/Users/lpfeifer/Library/Jupyter/runtime/kernel-ac3af0ae-dacd-43ef-8738-31a5efeafffb.json']\n"
     ]
    }
   ],
   "source": [
    "'''QUESTION 2. The input function will read a single line of text from the terminal. \n",
    "If you wanted to read several lines of text, you could embed this function inside a while loop and terminate the \n",
    "loop when the user of the program presses the interrupt key (Ctrl-C under UNIX, Linux and Windows.) \n",
    "Write such a program, and note its behavior when it receives the interrupt signal. \n",
    "Use a try/except clause to make the program behave more gracefully.'''\n",
    "#I referenced: https://www.pyimagesearch.com/2018/03/12/python-argparse-command-line-arguments/\n",
    "#I created a doc called \"read_lines.py\" which houses the following function\n",
    "\n",
    "#command line action would look something like this:\n",
    "#python read_lines.py --input Bird\n",
    "\n",
    "import sys\n",
    "print(sys.argv)\n",
    "\n",
    "def read_lines(): #what do we put in the #() I know I need a function that reads lineS from terminal - use sys?\n",
    "    text = input(\"Please enter something: \")\n",
    "    print(\"You entered: \" + text) \n",
    "    while True:\n",
    "        try:\n",
    "            line = input()\n",
    "        except EOFError:\n",
    "            break\n",
    "        contents.append(line)\n",
    "    "
   ]
  },
  {
   "cell_type": "code",
   "execution_count": null,
   "metadata": {},
   "outputs": [],
   "source": []
  }
 ],
 "metadata": {
  "kernelspec": {
   "display_name": "Python 3",
   "language": "python",
   "name": "python3"
  },
  "language_info": {
   "codemirror_mode": {
    "name": "ipython",
    "version": 3
   },
   "file_extension": ".py",
   "mimetype": "text/x-python",
   "name": "python",
   "nbconvert_exporter": "python",
   "pygments_lexer": "ipython3",
   "version": "3.6.8"
  }
 },
 "nbformat": 4,
 "nbformat_minor": 2
}
