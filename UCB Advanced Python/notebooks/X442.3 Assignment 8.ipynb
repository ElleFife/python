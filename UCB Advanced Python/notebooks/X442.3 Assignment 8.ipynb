{
 "cells": [
  {
   "cell_type": "markdown",
   "metadata": {},
   "source": [
    "# Regular Expressions\n",
    "\n",
    "Module 8\n",
    "\n",
    "Question 1\n",
    "Write a regular expression that will match strings that are either all lower case or all upper case. Assume that the string is a single word that is at least two letters long and consists only of letters. For example, it will match AM, PM, am or parrot but NOT match Am, aM, Pm or Parrot.\n",
    "\n",
    "\n",
    "\n",
    "Question 2\n",
    "Write a substitution command that will change names like file1, file2, etc. to file01, file02, etc. but will not add a zero to names like file10 or file20.\n",
    "\n",
    "\n",
    "Question 3\n",
    "Many news and mail readers automatically highlight URLs that appear in text, for example http://yahoo.com or www.msnbc.com. Construct a regular expression that will extract the names of URLs embedded in a string.\n",
    "\n",
    "\n",
    "Question 4\n",
    "Write a function that takes times of the form 03:12:19 (in other words, three hours, twelve minutes, and nineteen seconds) and converts them to the corresponding number of seconds.\n"
   ]
  },
  {
   "cell_type": "code",
   "execution_count": 1,
   "metadata": {},
   "outputs": [],
   "source": [
    "'''Question 1 \n",
    "Write a regular expression that will match strings that are either all lower case or all upper case. \n",
    "Assume that the string is a single word that is at least two letters long and consists only of letters. \n",
    "For example, it will match AM, PM, am or parrot but NOT match Am, aM, Pm or Parrot.'''\n",
    "\n",
    "\n",
    "import re\n",
    "strings = \"am, pm, parrot, AM, PM, PARROT\"\n",
    "regexp = re.findall(r'\\b([A-Z][A-Z]+|[a-z][a-z]+)\\b', strings)"
   ]
  },
  {
   "cell_type": "code",
   "execution_count": 2,
   "metadata": {},
   "outputs": [
    {
     "name": "stdout",
     "output_type": "stream",
     "text": [
      "file1, file2, file3, file4, file5, file 20\n",
      "file01, file02, file03, file04, file05, file 20\n"
     ]
    }
   ],
   "source": [
    "'''Question 2 \n",
    "Write a substitution command that will change names like file1, file2, etc. to file01, file02, etc. \n",
    "but will not add a zero to names like file10 or file20.'''\n",
    "\n",
    "import re\n",
    "names = \"file1, file2, file3, file4, file5, file 20\"\n",
    "pattern = re.compile(r\"file(\\d{1}\\D)\")\n",
    "print(names)\n",
    "print(pattern.sub(r\"file0\\1\", names))"
   ]
  },
  {
   "cell_type": "code",
   "execution_count": 9,
   "metadata": {},
   "outputs": [
    {
     "name": "stdout",
     "output_type": "stream",
     "text": [
      "['http://yahoo.com', ' www.msnbc.com', ' www.nytimes.com']\n"
     ]
    }
   ],
   "source": [
    "'''Question 3 \n",
    "Many news and mail readers automatically highlight URLs that appear in text, \n",
    "for example http://yahoo.com or www.msnbc.com. \n",
    "Construct a regular expression that will extract the names of URLs embedded in a string.'''\n",
    "\n",
    "import re\n",
    "newssource = \"Here are some news websites like http://yahoo.com or www.msnbc.com or www.nytimes.com\"\n",
    "\n",
    "#To dissect URLs we use the following pattern for (alphanumerics = http)://(alphanumerics - being www). OR\n",
    "#(alphanumerics = https). (more alphanumerics = www).(more alphanumberics).(alphanumerics = .com)\n",
    "\n",
    "pattern = re.compile((r'\\w+://\\w+.\\w+|\\w+w\\.\\w+.\\w+\\.\\w+'))\n",
    "\n",
    "#create a way to iterate through text by \n",
    "\n",
    "regexp = re.findall(r'http\\w?://\\w+.\\w+|\\swww.\\w+.\\w+', newssource)\n",
    "print(regexp)\n",
    "\n"
   ]
  },
  {
   "cell_type": "code",
   "execution_count": 22,
   "metadata": {},
   "outputs": [
    {
     "name": "stdout",
     "output_type": "stream",
     "text": [
      "The number of seconds is 11539\n"
     ]
    }
   ],
   "source": [
    "'''Question 4 \n",
    "Write a function that takes times of the form 03:12:19 \n",
    "(in other words, three hours, twelve minutes, and nineteen seconds) and converts them to the corresponding \n",
    "number of seconds.'''\n",
    "\n",
    "#Note: there are 3600 seconds in 1 hour, 60 seconds in 1 minute\n",
    "\n",
    "def seconds(timestring):\n",
    "    hour, minute, second = timestring.split(\":\")\n",
    "    return int(hour) * 3600 + int(minute) * 60 + int(second)\n",
    "\n",
    "print(\"The number of seconds is \" +str(seconds(\"03:12:19\")))\n",
    "\n"
   ]
  },
  {
   "cell_type": "code",
   "execution_count": null,
   "metadata": {},
   "outputs": [],
   "source": []
  }
 ],
 "metadata": {
  "kernelspec": {
   "display_name": "Python 3",
   "language": "python",
   "name": "python3"
  },
  "language_info": {
   "codemirror_mode": {
    "name": "ipython",
    "version": 3
   },
   "file_extension": ".py",
   "mimetype": "text/x-python",
   "name": "python",
   "nbconvert_exporter": "python",
   "pygments_lexer": "ipython3",
   "version": "3.6.8"
  }
 },
 "nbformat": 4,
 "nbformat_minor": 2
}
