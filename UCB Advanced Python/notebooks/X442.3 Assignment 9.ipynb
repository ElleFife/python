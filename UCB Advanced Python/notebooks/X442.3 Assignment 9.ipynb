{
 "cells": [
  {
   "cell_type": "markdown",
   "metadata": {},
   "source": [
    "# Operating System and Internet"
   ]
  },
  {
   "cell_type": "markdown",
   "metadata": {},
   "source": [
    "Using Operating System Modules\n",
    "\n",
    "\n",
    "Complete this assignment and attach the .py and/or .txt file(s) to the drop box for this module, which you'll find near the end of the module. Please be sure to include your last name and the course number in the file name of the document, like so: \"your name X442.3 Assignment 9.\"\n",
    "\n",
    "\n",
    "Using os.walk, write a script that will print the filenames of zero length files. It should also print the count of zero length files.\n",
    "Write a script that will list and count all of the images in a given HTML web page/file. You can assume that:\n",
    "Each image file is enclosed with the tag <img and ends with >\n",
    "The HTML page/file is syntactically correct"
   ]
  },
  {
   "cell_type": "code",
   "execution_count": 22,
   "metadata": {},
   "outputs": [
    {
     "name": "stdout",
     "output_type": "stream",
     "text": [
      "zero.txt\n",
      "zero.txt /Users/lpfeifer/code/files/zero.txt\n",
      "one.txt\n",
      "I guess it's not zero\n"
     ]
    }
   ],
   "source": [
    "'''Question 1\n",
    "Using os.walk, write a script that will print the filenames of zero length files. \n",
    "It should also print the count of zero length files.'''\n",
    "\n",
    "import os\n",
    "file_location = '/Users/lpfeifer/code/files'\n",
    "for root, dirs, files in os.walk(file_location):\n",
    "    for f in files:\n",
    "        print(f)\n",
    "        file_path = os.path.join(root, f)\n",
    "        size = os.path.getsize(file_path)\n",
    "        if size == 0:\n",
    "            print(f, file_path)\n",
    "        else:\n",
    "            print(\"I guess it's not zero\")\n"
   ]
  },
  {
   "cell_type": "code",
   "execution_count": 35,
   "metadata": {},
   "outputs": [
    {
     "name": "stdout",
     "output_type": "stream",
     "text": [
      "https://ganbreeder.app/ Total number of images = 23\n",
      "https://openai.com/blog/learning-dexterity/ Total number of images = 8\n"
     ]
    }
   ],
   "source": [
    "'''Question 2\n",
    "Write a script that will list and count all of the images in a given HTML web page/file. You can assume that:\n",
    "Each image file is enclosed with the tag <img and ends with >\n",
    "The HTML page/file is syntactically correct'''\n",
    "\n",
    "#image example <a href=\"photos.html\"  target=\"display\"> ==$0    <im src=\"images/pete0.png\" width=\"120\">    </a>\n",
    "#list images\n",
    "\n",
    "import re\n",
    "from urllib.request import urlopen #open URL Library\n",
    "\n",
    "def get_image(url): #pass URL through function\n",
    "    total = 0\n",
    "    page = urlopen(url).readlines()\n",
    "    for line in page:\n",
    "        hit = re.findall('<img.*?>', str(line)) #Using *? matches match only with <a>\n",
    "        total += len(hit)\n",
    "\n",
    "    print('{0} Total number of images = {1}'.format(url, total))\n",
    "\n",
    "get_image(\"https://ganbreeder.app/\")\n",
    "get_image(\"https://openai.com/blog/learning-dexterity/\")\n"
   ]
  },
  {
   "cell_type": "code",
   "execution_count": null,
   "metadata": {},
   "outputs": [],
   "source": []
  }
 ],
 "metadata": {
  "kernelspec": {
   "display_name": "Python 3",
   "language": "python",
   "name": "python3"
  },
  "language_info": {
   "codemirror_mode": {
    "name": "ipython",
    "version": 3
   },
   "file_extension": ".py",
   "mimetype": "text/x-python",
   "name": "python",
   "nbconvert_exporter": "python",
   "pygments_lexer": "ipython3",
   "version": "3.6.8"
  }
 },
 "nbformat": 4,
 "nbformat_minor": 2
}
